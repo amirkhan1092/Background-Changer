{
 "cells": [
  {
   "cell_type": "markdown",
   "metadata": {},
   "source": [
    "# In this notebook we will create a background changer for videos with a condition that these videos have a greenscreen background\n",
    "We will use Numpy, OpenCv, MatplotLib and MoviePy. For the ones who doesn't know MoviePy is a Python module for video editing.\n",
    "We will use another video as a background.\n",
    "In this notebook we will not only change the background of a video with a static image, we will change the background of the video with another video."
   ]
  },
  {
   "cell_type": "markdown",
   "metadata": {},
   "source": [
    "### Importing the resources"
   ]
  },
  {
   "cell_type": "code",
   "execution_count": null,
   "metadata": {},
   "outputs": [],
   "source": [
    "import numpy as np\n",
    "import cv2\n",
    "import matplotlib.pyplot as plt\n",
    "import moviepy.editor as movie"
   ]
  },
  {
   "cell_type": "markdown",
   "metadata": {},
   "source": [
    "### Remeber OpenCv shape attribute return the size as (height, width, depth) and MoviePy size attribute return (width, height) and the OpenCv resize function take a tuple argumet of height and width as (width, height)"
   ]
  },
  {
   "cell_type": "code",
   "execution_count": null,
   "metadata": {},
   "outputs": [],
   "source": [
    "#import the video\n",
    "clip = movie.VideoFileClip(\"videos/van_damme_greenscreen.mp4\").subclip(10, 50)\n",
    "\n",
    "#print the size of th video\n",
    "print(\"Video size: \", clip.size)\n",
    "\n",
    "#import the background video\n",
    "background_clip = movie.VideoFileClip(\"videos/new_york_street.mp4\").subclip(10, 50)\n",
    "\n",
    "#print the size of the background video\n",
    "print(\"background video size: \", background_clip.size)"
   ]
  },
  {
   "cell_type": "code",
   "execution_count": null,
   "metadata": {},
   "outputs": [],
   "source": [
    "#print the fps of the clip\n",
    "print(\"clip fps: \", clip.fps)\n",
    "\n",
    "#print fps of background clip\n",
    "print(\"background fps clip: \", background_clip.fps)"
   ]
  },
  {
   "cell_type": "code",
   "execution_count": null,
   "metadata": {},
   "outputs": [],
   "source": [
    "#make a copy of the clip\n",
    "clip_copy = clip.copy()\n",
    "\n",
    "#make a copy of background clip\n",
    "background_clip_copy = background_clip.copy()"
   ]
  },
  {
   "cell_type": "code",
   "execution_count": null,
   "metadata": {},
   "outputs": [],
   "source": [
    "#extracting the audio soundtrack of the clip\n",
    "audioclip = clip.audio"
   ]
  },
  {
   "cell_type": "code",
   "execution_count": null,
   "metadata": {},
   "outputs": [],
   "source": [
    "audioclip = audioclip.set_duration(40)\n",
    "audioclip = audioclip.set_start(10, change_end=True)"
   ]
  }
 ],
 "metadata": {
  "kernelspec": {
   "display_name": "Python 3",
   "language": "python",
   "name": "python3"
  },
  "language_info": {
   "codemirror_mode": {
    "name": "ipython",
    "version": 3
   },
   "file_extension": ".py",
   "mimetype": "text/x-python",
   "name": "python",
   "nbconvert_exporter": "python",
   "pygments_lexer": "ipython3",
   "version": "3.7.5"
  }
 },
 "nbformat": 4,
 "nbformat_minor": 2
}
