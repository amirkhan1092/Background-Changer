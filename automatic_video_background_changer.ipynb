{
 "cells": [
  {
   "cell_type": "markdown",
   "metadata": {},
   "source": [
    "# In this notebook we will create a background changer for videos with a condition that these videos have a greenscreen background\n",
    "We will use Numpy, OpenCv, MatplotLib and MoviePy. For the ones who doesn't know MoviePy is a Python module for video editing."
   ]
  },
  {
   "cell_type": "markdown",
   "metadata": {},
   "source": [
    "### Importing the resources"
   ]
  },
  {
   "cell_type": "code",
   "execution_count": 1,
   "metadata": {},
   "outputs": [],
   "source": [
    "import numpy as np\n",
    "import cv2\n",
    "import matplotlib.pyplot as plt\n",
    "import moviepy.editor as movie\n",
    "import os"
   ]
  },
  {
   "cell_type": "markdown",
   "metadata": {},
   "source": [
    "### Remeber OpenCv shape attribute return the size as (height, width, depth) and MoviePy size attribute return (width, height) and the OpenCv resize function take a tuple argumet of height and width as (width, height)"
   ]
  },
  {
   "cell_type": "code",
   "execution_count": 2,
   "metadata": {},
   "outputs": [
    {
     "name": "stdout",
     "output_type": "stream",
     "text": [
      "Video size:  [1280, 720]\n",
      "Image size:  (768, 1366, 3)\n",
      "New image size:  (720, 1280, 3)\n"
     ]
    }
   ],
   "source": [
    "#import the video\n",
    "clip = movie.VideoFileClip(\"videos/van_damme_greenscreen.mp4\")\n",
    "\n",
    "#print the size of th video\n",
    "print(\"Video size: \", clip.size)\n",
    "\n",
    "#import the image background\n",
    "background_img = cv2.imread(\"images/house.jpg\")\n",
    "\n",
    "#print the size of the image\n",
    "print(\"Image size: \", background_img.shape)\n",
    "\n",
    "#resize the image to fit the video\n",
    "background_img_copy = np.copy(background_img)\n",
    "background_img_resized = cv2.resize(background_img_copy, (1280, 720), interpolation = cv2.INTER_AREA)\n",
    "\n",
    "#print the new size of the image\n",
    "print(\"New image size: \", background_img_resized.shape)"
   ]
  },
  {
   "cell_type": "code",
   "execution_count": 3,
   "metadata": {},
   "outputs": [],
   "source": [
    "#make a copy of the clip\n",
    "clip_copy = clip.copy()"
   ]
  },
  {
   "cell_type": "code",
   "execution_count": 4,
   "metadata": {},
   "outputs": [],
   "source": [
    "#frame_array = [frame for frame in clip_copy.iter_frames(dtype = \"unit8\")]"
   ]
  },
  {
   "cell_type": "markdown",
   "metadata": {},
   "source": [
    "# We are going to generate a sequence of images from the video, change the background of each farme, save the new images as jpg in a folder named image_sequence"
   ]
  },
  {
   "cell_type": "code",
   "execution_count": null,
   "metadata": {},
   "outputs": [],
   "source": [
    "for i, frame in enumerate(clip_copy.iter_frames(dtype = \"uint8\"), 0):\n",
    "    #make a copy of the current frame\n",
    "    imageHsv = np.copy(frame)\n",
    "\n",
    "    #make a copy of background image\n",
    "    backgroundImgHsv = np.copy(background_img_resized)\n",
    "\n",
    "    #now let's change the color space from RGB to HSV\n",
    "    #remeber MoviePy use RGB color space and the video is imported with MoviePy\n",
    "    imageHsv = cv2.cvtColor(imageHsv, cv2.COLOR_RGB2HSV)\n",
    "    \n",
    "    #converting the color space from BGR to HSV\n",
    "    backgroundImgHsv = cv2.cvtColor(backgroundImgHsv, cv2.COLOR_BGR2HSV)\n",
    "\n",
    "    #defining the mask boundaries\n",
    "    lowerMaskH = np.array([58, 0, 0])\n",
    "    upperMaskH = np.array([90, 255, 255])\n",
    "\n",
    "    #define the masked area\n",
    "    maskedArea = cv2.inRange(imageHsv, lowerMaskH, upperMaskH)\n",
    "\n",
    "    #mask the current frame\n",
    "    maskedImageHsv = np.copy(imageHsv)\n",
    "    maskedImageHsv[maskedArea != 0] = [0, 0, 0]\n",
    "\n",
    "    #mask the background image\n",
    "    maskedBackgroundImgHsv = np.copy(backgroundImgHsv)\n",
    "    maskedBackgroundImgHsv[maskedArea == 0] = [0, 0, 0]\n",
    "\n",
    "    #and now merge the two images together \n",
    "    finalImage = maskedImageHsv + maskedBackgroundImgHsv\n",
    "\n",
    "    #convert the final image from HSV to BGR\n",
    "    final_frame = cv2.cvtColor(finalImage, cv2.COLOR_HSV2BGR)\n",
    "    \n",
    "    #write the curret frame to the hard disk\n",
    "    #reneber we need the color space to be BGR for OpenCv\n",
    "    cv2.imwrite(f\"image_sequence/frame{i}.jpg\", final_frame)"
   ]
  },
  {
   "cell_type": "code",
   "execution_count": null,
   "metadata": {},
   "outputs": [],
   "source": []
  }
 ],
 "metadata": {
  "kernelspec": {
   "display_name": "Python 3",
   "language": "python",
   "name": "python3"
  },
  "language_info": {
   "codemirror_mode": {
    "name": "ipython",
    "version": 3
   },
   "file_extension": ".py",
   "mimetype": "text/x-python",
   "name": "python",
   "nbconvert_exporter": "python",
   "pygments_lexer": "ipython3",
   "version": "3.7.3"
  }
 },
 "nbformat": 4,
 "nbformat_minor": 2
}
